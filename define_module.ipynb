{
 "cells": [
  {
   "cell_type": "code",
   "execution_count": 1,
   "metadata": {},
   "outputs": [
    {
     "name": "stdout",
     "output_type": "stream",
     "text": [
      "WARNING:tensorflow:From <ipython-input-1-ca46c6075443>:16: all_variables (from tensorflow.python.ops.variables) is deprecated and will be removed after 2017-03-02.\n",
      "Instructions for updating:\n",
      "Please use tf.global_variables instead.\n",
      "WARNING:tensorflow:From D:\\Anaconda3\\envs\\tensorflow\\lib\\site-packages\\tensorflow\\python\\util\\tf_should_use.py:170: initialize_variables (from tensorflow.python.ops.variables) is deprecated and will be removed after 2017-03-02.\n",
      "Instructions for updating:\n",
      "Use `tf.variables_initializer` instead.\n"
     ]
    }
   ],
   "source": [
    "import tensorflow as tf\n",
    "\n",
    "with tf.Session() as sess:\n",
    "\tx = tf.placeholder(tf.float32, [None, 32], name=\"x\")\n",
    "\ty = tf.placeholder(tf.float32, [None, 8], name=\"y\")\n",
    "\t#定义训练模型\n",
    "\tw1 = tf.Variable(tf.truncated_normal([32, 16], stddev=0.1))\n",
    "\tb1 = tf.Variable(tf.constant(0.0, shape=[16]))\n",
    "\tw2 = tf.Variable(tf.truncated_normal([16, 8], stddev=0.1))\n",
    "\tb2 = tf.Variable(tf.constant(0.0, shape=[8]))\n",
    "\ta = tf.nn.tanh(tf.nn.bias_add(tf.matmul(x, w1), b1))\n",
    "\ty_out = tf.nn.tanh(tf.nn.bias_add(tf.matmul(a, w2), b2), name=\"y_out\")\n",
    "\tcost = tf.reduce_sum(tf.square(y-y_out), name=\"cost\")\n",
    "\toptimizer = tf.train.AdamOptimizer().minimize(cost, name=\"train\")\n",
    "\t#定义变量初始化操作\n",
    "\tinit = tf.initialize_variables(tf.all_variables(), name='init_all_vars_op')\n",
    "\t#把图模型转换为Protobuf文件\n",
    "\ttf.train.write_graph(sess.graph_def, './', 'mlp.pb', as_text=False)"
   ]
  },
  {
   "cell_type": "code",
   "execution_count": null,
   "metadata": {
    "collapsed": true
   },
   "outputs": [],
   "source": []
  }
 ],
 "metadata": {
  "kernelspec": {
   "display_name": "Python 3",
   "language": "python",
   "name": "python3"
  },
  "language_info": {
   "codemirror_mode": {
    "name": "ipython",
    "version": 3
   },
   "file_extension": ".py",
   "mimetype": "text/x-python",
   "name": "python",
   "nbconvert_exporter": "python",
   "pygments_lexer": "ipython3",
   "version": "3.6.3"
  }
 },
 "nbformat": 4,
 "nbformat_minor": 2
}
